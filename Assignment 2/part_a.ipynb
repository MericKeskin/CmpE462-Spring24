{
 "cells": [
  {
   "cell_type": "code",
   "execution_count": 1,
   "metadata": {},
   "outputs": [],
   "source": [
    "from data import read_svm_data\n",
    "from cvxopt import matrix, solvers\n",
    "import numpy as np"
   ]
  },
  {
   "cell_type": "code",
   "execution_count": 2,
   "metadata": {},
   "outputs": [
    {
     "data": {
      "text/plain": [
       "((20000, 784), (20000,), (3974, 784), (3974,))"
      ]
     },
     "execution_count": 2,
     "metadata": {},
     "output_type": "execute_result"
    }
   ],
   "source": [
    "training_labels, training_images = read_svm_data(\"training\", \"MNIST_ORG\", [2, 3, 8, 9])\n",
    "testing_labels, testing_images = read_svm_data(\"testing\", \"MNIST_ORG\", [2, 3, 8, 9])\n",
    "\n",
    "training_images.shape, training_labels.shape, testing_images.shape, testing_labels.shape"
   ]
  },
  {
   "cell_type": "code",
   "execution_count": 3,
   "metadata": {},
   "outputs": [],
   "source": [
    "# Normalize the images\n",
    "training_images = training_images.astype(np.float64) / 255.0\n",
    "testing_images = testing_images.astype(np.float64) / 255.0"
   ]
  },
  {
   "cell_type": "code",
   "execution_count": 4,
   "metadata": {},
   "outputs": [],
   "source": [
    "# Constants\n",
    "C = 100\n",
    "N = training_labels.shape[0]  # number of training samples\n",
    "d = training_images.shape[1]  # dimension of each sample\n",
    "labels_to_classify = [2, 3, 8, 9]\n",
    "classifiers = {}"
   ]
  },
  {
   "cell_type": "code",
   "execution_count": null,
   "metadata": {},
   "outputs": [],
   "source": [
    "for label in labels_to_classify:\n",
    "    N = training_labels.shape[0]\n",
    "    d = training_images.shape[1]\n",
    "\n",
    "    # Define matrix Q\n",
    "    Q = np.zeros((d + N + 1, d + N + 1))\n",
    "    Q[:d, :d] = np.eye(d)\n",
    "    Q[d:, d:] += 1e-6 * np.eye(N + 1)\n",
    "\n",
    "    # Define vector p\n",
    "    p = np.zeros(d + N + 1)\n",
    "    p[d+1:] = C\n",
    "\n",
    "    # Define matrix A and vector c\n",
    "    A = np.zeros((N, d + N + 1))\n",
    "    c = -np.ones(N)\n",
    "\n",
    "    for i in range(N):\n",
    "        yn = 1 if training_labels[i] == label else -1\n",
    "        A[i, :d] = -yn * training_images[i]\n",
    "        A[i, d] = -yn\n",
    "        A[i, d + 1 + i] = -1\n",
    "\n",
    "    # Convert to cvxopt matrices\n",
    "    Q = matrix(Q)\n",
    "    p = matrix(p)\n",
    "    G = matrix(A)\n",
    "    h = matrix(c)\n",
    "\n",
    "    # Solve the quadratic programming problem\n",
    "    sol = solvers.qp(P=Q, q=p, G=G, h=h, A=None, b=None)\n",
    "\n",
    "    # Extract solution\n",
    "    w = np.array(sol['x'][:d]).flatten()\n",
    "    b = np.array(sol['x'][d]).flatten()\n",
    "\n",
    "    # Store the classifier\n",
    "    classifiers[label] = (w, b)"
   ]
  },
  {
   "cell_type": "code",
   "execution_count": 6,
   "metadata": {},
   "outputs": [],
   "source": [
    "def predict(X, classifiers):\n",
    "    # Store predictions from each classifier\n",
    "    predictions = {label: np.dot(X, w) + b for label, (w, b) in classifiers.items()}\n",
    "    # Decide the final label based on the classifier with the maximum output\n",
    "    final_predictions = np.fromiter((max(predictions, key=lambda x: predictions[x][i]) for i in range(len(X))), dtype=int)\n",
    "    return final_predictions"
   ]
  },
  {
   "cell_type": "code",
   "execution_count": 8,
   "metadata": {},
   "outputs": [
    {
     "name": "stdout",
     "output_type": "stream",
     "text": [
      "Training Accuracy: 84.75%\n",
      "Testing Accuracy: 85.71%\n"
     ]
    }
   ],
   "source": [
    "predictions = predict(training_images, classifiers)\n",
    "mapped_labels = np.array([label if label in labels_to_classify else None for label in training_labels])\n",
    "correct_predictions = np.sum(predictions == mapped_labels)\n",
    "accuracy = correct_predictions / len(training_labels)\n",
    "print(f\"Training Accuracy: {accuracy * 100:.2f}%\")\n",
    "\n",
    "predictions = predict(testing_images, classifiers)\n",
    "mapped_labels = np.array([label if label in labels_to_classify else None for label in testing_labels])\n",
    "correct_predictions = np.sum(predictions == mapped_labels)\n",
    "accuracy = correct_predictions / len(testing_labels)\n",
    "print(f\"Testing Accuracy: {accuracy * 100:.2f}%\")\n"
   ]
  }
 ],
 "metadata": {
  "kernelspec": {
   "display_name": "venv",
   "language": "python",
   "name": "python3"
  },
  "language_info": {
   "codemirror_mode": {
    "name": "ipython",
    "version": 3
   },
   "file_extension": ".py",
   "mimetype": "text/x-python",
   "name": "python",
   "nbconvert_exporter": "python",
   "pygments_lexer": "ipython3",
   "version": "3.11.4"
  }
 },
 "nbformat": 4,
 "nbformat_minor": 2
}
