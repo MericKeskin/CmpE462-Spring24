{
 "cells": [
  {
   "cell_type": "code",
   "execution_count": 1,
   "metadata": {},
   "outputs": [
    {
     "ename": "ModuleNotFoundError",
     "evalue": "No module named 'data'",
     "output_type": "error",
     "traceback": [
      "\u001b[1;31m---------------------------------------------------------------------------\u001b[0m",
      "\u001b[1;31mModuleNotFoundError\u001b[0m                       Traceback (most recent call last)",
      "Cell \u001b[1;32mIn[1], line 1\u001b[0m\n\u001b[1;32m----> 1\u001b[0m \u001b[38;5;28;01mfrom\u001b[39;00m \u001b[38;5;21;01mdata\u001b[39;00m \u001b[38;5;28;01mimport\u001b[39;00m DecisionTreeData\n\u001b[0;32m      3\u001b[0m \u001b[38;5;28;01mfrom\u001b[39;00m \u001b[38;5;21;01msklearn\u001b[39;00m\u001b[38;5;21;01m.\u001b[39;00m\u001b[38;5;21;01mtree\u001b[39;00m \u001b[38;5;28;01mimport\u001b[39;00m DecisionTreeClassifier, plot_tree\n\u001b[0;32m      4\u001b[0m \u001b[38;5;28;01mfrom\u001b[39;00m \u001b[38;5;21;01msklearn\u001b[39;00m\u001b[38;5;21;01m.\u001b[39;00m\u001b[38;5;21;01mensemble\u001b[39;00m \u001b[38;5;28;01mimport\u001b[39;00m RandomForestClassifier\n",
      "\u001b[1;31mModuleNotFoundError\u001b[0m: No module named 'data'"
     ]
    }
   ],
   "source": [
    "from data import DecisionTreeData\n",
    "\n",
    "from sklearn.tree import DecisionTreeClassifier, plot_tree\n",
    "from sklearn.ensemble import RandomForestClassifier\n",
    "import matplotlib.pyplot as plt\n",
    "import numpy as np"
   ]
  },
  {
   "cell_type": "code",
   "execution_count": null,
   "metadata": {},
   "outputs": [],
   "source": [
    "data = DecisionTreeData(r'breast+cancer+wisconsin+diagnostic/wdbc.data')\n",
    "X = data.get_X()\n",
    "y = data.get_y()\n",
    "X_train, X_test, y_train, y_test = data.split_data(X, y, test_size=0.3)"
   ]
  },
  {
   "cell_type": "code",
   "execution_count": null,
   "metadata": {},
   "outputs": [],
   "source": [
    "depths = [depth for depth in range(1, 21)]\n",
    "scores = {}\n",
    "for depth in depths:\n",
    "    dt = DecisionTreeClassifier(max_depth=depth, random_state=42)\n",
    "    dt.fit(X_train, y_train)\n",
    "    score = dt.score(X_test, y_test)\n",
    "    scores[depth] = score"
   ]
  },
  {
   "cell_type": "markdown",
   "metadata": {},
   "source": [
    "Find the best depth"
   ]
  },
  {
   "cell_type": "code",
   "execution_count": null,
   "metadata": {},
   "outputs": [],
   "source": [
    "best_depth = max(scores, key=scores.get)\n",
    "best_dt = DecisionTreeClassifier(max_depth=best_depth, random_state=42)\n",
    "best_dt.fit(X_train, y_train)"
   ]
  },
  {
   "cell_type": "markdown",
   "metadata": {},
   "source": [
    "Visualize the best tree"
   ]
  },
  {
   "cell_type": "code",
   "execution_count": null,
   "metadata": {},
   "outputs": [],
   "source": [
    "plt.figure(figsize=(20,10))\n",
    "tree_plot = plot_tree(\n",
    "    decision_tree=best_dt,\n",
    "    filled=True,\n",
    "    feature_names=[f'Feature {i}' for i in range(1, X_train.shape[1] + 1)],\n",
    "    fontsize=10\n",
    ")\n",
    "plt.title('Decision Tree for Breast Cancer Wisconsin Dataset')\n",
    "plt.show()\n",
    "\n",
    "scores, best_depth"
   ]
  },
  {
   "cell_type": "markdown",
   "metadata": {},
   "source": [
    "Get best features"
   ]
  },
  {
   "cell_type": "code",
   "execution_count": null,
   "metadata": {},
   "outputs": [
    {
     "data": {
      "text/plain": [
       "(array([22, 27, 21, 23,  7], dtype=int64),\n",
       " array([22, 27, 21, 23,  7,  4, 20, 13,  2, 26], dtype=int64),\n",
       " array([22, 27, 21, 23,  7,  4, 20, 13,  2, 26,  6,  8, 29,  5,  3],\n",
       "       dtype=int64),\n",
       " array([22, 27, 21, 23,  7,  4, 20, 13,  2, 26,  6,  8, 29,  5,  3, 10,  1,\n",
       "         9, 14, 11], dtype=int64))"
      ]
     },
     "execution_count": 42,
     "metadata": {},
     "output_type": "execute_result"
    }
   ],
   "source": [
    "feature_importances = best_dt.feature_importances_\n",
    "\n",
    "sorted_indices = np.argsort(feature_importances)[::-1]\n",
    "\n",
    "# the most significant 5, 10, 15, and 20 features based on their importance scores\n",
    "top_5_features = sorted_indices[:5]\n",
    "top_10_features = sorted_indices[:10]\n",
    "top_15_features = sorted_indices[:15]\n",
    "top_20_features = sorted_indices[:20]\n",
    "\n",
    "top_5_features, top_10_features, top_15_features, top_20_features"
   ]
  },
  {
   "cell_type": "markdown",
   "metadata": {},
   "source": [
    "Random forest"
   ]
  },
  {
   "cell_type": "code",
   "execution_count": null,
   "metadata": {},
   "outputs": [],
   "source": [
    "num_trees = [1, 2, 4, 8, 12, 16, 24, 32, 48, 64, 96, 100, 128, 150, 200]\n",
    "train_scores_rf = []\n",
    "test_scores_rf = []\n",
    "train_scores_dt = best_dt.score(X_train, y_train)\n",
    "test_scores_dt = best_dt.score(X_test, y_test)\n",
    "\n",
    "for n in num_trees:\n",
    "    rf = RandomForestClassifier(n_estimators=n, random_state=42)\n",
    "    rf.fit(X_train, y_train)\n",
    "    train_scores_rf.append(rf.score(X_train, y_train))\n",
    "    test_scores_rf.append(rf.score(X_test, y_test))\n"
   ]
  },
  {
   "cell_type": "markdown",
   "metadata": {},
   "source": [
    "Plotting the performances\n"
   ]
  },
  {
   "cell_type": "code",
   "execution_count": null,
   "metadata": {},
   "outputs": [],
   "source": [
    "plt.figure(figsize=(10, 5))\n",
    "plt.plot(num_trees, train_scores_rf, label='RF Train Accuracy', marker='o')\n",
    "plt.plot(num_trees, test_scores_rf, label='RF Test Accuracy', marker='o')\n",
    "plt.axhline(y=train_scores_dt, color='r', linestyle='--', label='DT Train Accuracy')\n",
    "plt.axhline(y=test_scores_dt, color='b', linestyle='--', label='DT Test Accuracy')\n",
    "plt.xlabel('Number of Trees in Forest')\n",
    "plt.ylabel('Accuracy')\n",
    "plt.title('Random Forest vs Decision Tree Performance')\n",
    "plt.legend()\n",
    "plt.grid(True)\n",
    "plt.show()"
   ]
  }
 ],
 "metadata": {
  "kernelspec": {
   "display_name": "venv",
   "language": "python",
   "name": "python3"
  },
  "language_info": {
   "codemirror_mode": {
    "name": "ipython",
    "version": 3
   },
   "file_extension": ".py",
   "mimetype": "text/x-python",
   "name": "python",
   "nbconvert_exporter": "python",
   "pygments_lexer": "ipython3",
   "version": "3.11.4"
  }
 },
 "nbformat": 4,
 "nbformat_minor": 2
}
