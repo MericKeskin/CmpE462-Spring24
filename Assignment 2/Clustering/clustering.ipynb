{
 "cells": [
  {
   "cell_type": "code",
   "execution_count": 1,
   "metadata": {},
   "outputs": [],
   "source": [
    "import numpy as np\n",
    "\n",
    "from data import Data\n",
    "from KMeans import KMeans\n",
    "from KMeans import eucledian_distance\n",
    "from KMeans import cosine_similarity_distance\n",
    "\n",
    "from scipy.optimize import linear_sum_assignment\n",
    "from sklearn.metrics import accuracy_score"
   ]
  },
  {
   "cell_type": "code",
   "execution_count": 2,
   "metadata": {},
   "outputs": [],
   "source": [
    "mnist_data = Data()\n",
    "mnist_data.prepare_dataset([2, 3, 8, 9])\n",
    "train_images, test_images = mnist_data.x_train, mnist_data.x_test\n",
    "train_labels, test_labels = mnist_data.y_train, mnist_data.y_test"
   ]
  },
  {
   "cell_type": "code",
   "execution_count": 3,
   "metadata": {},
   "outputs": [
    {
     "name": "stderr",
     "output_type": "stream",
     "text": [
      "/Users/merickeskin/CmpE462-Spring24/Assignment 2/Clustering/data.py:38: RuntimeWarning: invalid value encountered in divide\n",
      "  X_standardized = np.where(std_dev != 0, (X - mean) / std_dev, 0)\n"
     ]
    }
   ],
   "source": [
    "train_images = mnist_data.normalize_data(train_images)\n",
    "test_images = mnist_data.normalize_data(test_images)"
   ]
  },
  {
   "cell_type": "markdown",
   "metadata": {},
   "source": [
    "PCA Algorithm"
   ]
  },
  {
   "cell_type": "code",
   "execution_count": 4,
   "metadata": {},
   "outputs": [],
   "source": [
    "def standardize(X):\n",
    "    X_mean = np.mean(X, axis=0)\n",
    "    X_std = np.std(X, axis=0)\n",
    "    X_std[X_std == 0] = 1\n",
    "    X_standardized = (X - X_mean) / X_std\n",
    "    return X_standardized\n",
    "\n",
    "def cov(X):\n",
    "    m = X.shape[0]\n",
    "    covariance_matrix = np.dot(X.T, X) / m\n",
    "    return covariance_matrix\n",
    "\n",
    "def get_eigenvectors(X, top_n):\n",
    "    X_standardized = standardize(X)\n",
    "    covariance_matrix = cov(X_standardized)\n",
    "    eigenvalues, eigenvectors = np.linalg.eigh(covariance_matrix)\n",
    "    sorted_idx = np.argsort(eigenvalues)[::-1]\n",
    "    selected_eigenvectors = eigenvectors[:, sorted_idx[:top_n]]\n",
    "    return selected_eigenvectors, np.mean(X, axis=0), np.std(X, axis=0)\n",
    "\n",
    "def pca(X, components, mean, std):\n",
    "    std[std == 0] = 1\n",
    "    X_standardized = (X - mean) / std\n",
    "    return np.dot(X_standardized, components)\n",
    "\n",
    "components, train_mean, train_std = get_eigenvectors(train_images, 10)\n",
    "train_images_pca = pca(train_images, components, train_mean, train_std)\n",
    "test_images_pca = pca(test_images, components, train_mean, train_std)"
   ]
  },
  {
   "cell_type": "markdown",
   "metadata": {},
   "source": [
    "SSE and Clustering Accuracy Functions"
   ]
  },
  {
   "cell_type": "code",
   "execution_count": 5,
   "metadata": {},
   "outputs": [],
   "source": [
    "def compute_sse(X, clusters, centroids):\n",
    "    sse = 0\n",
    "    for cluster_ind, cluster in enumerate(clusters):\n",
    "        cluster_points = X[cluster]\n",
    "        centroid = centroids[cluster_ind]\n",
    "        sse += np.sum((cluster_points - centroid) ** 2)\n",
    "    return sse\n",
    "\n",
    "\n",
    "def clustering_accuracy(true_labels, predicted_clusters, K):\n",
    "    cost_matrix = np.zeros((K, K), dtype=int)\n",
    "    for i in range(K):\n",
    "        for j in range(K):\n",
    "            matches = np.sum((true_labels == i) & (predicted_clusters == j))\n",
    "            cost_matrix[i, j] = -matches\n",
    "\n",
    "    row_ind, col_ind = linear_sum_assignment(cost_matrix)\n",
    "\n",
    "    total_correct = 0\n",
    "    for i, j in zip(row_ind, col_ind):\n",
    "        total_correct += np.sum((true_labels == i) & (predicted_clusters == j))\n",
    "    accuracy = total_correct / len(true_labels)\n",
    "    return accuracy"
   ]
  },
  {
   "cell_type": "markdown",
   "metadata": {},
   "source": [
    "KMeans with Eucledian Distance"
   ]
  },
  {
   "cell_type": "code",
   "execution_count": 6,
   "metadata": {},
   "outputs": [],
   "source": [
    "kmeans = KMeans(K=4, converge_func=eucledian_distance, plot_steps=False)\n",
    "kmeans.predict(train_images_pca)"
   ]
  },
  {
   "cell_type": "code",
   "execution_count": 7,
   "metadata": {},
   "outputs": [
    {
     "name": "stdout",
     "output_type": "stream",
     "text": [
      "Original Data - SSE: 14901588.93341656\n",
      "Original Data - Clustering Accuracy: 0.3711331575201976\n"
     ]
    }
   ],
   "source": [
    "kmeans = KMeans(K=4, converge_func=eucledian_distance, plot_steps=False)\n",
    "kmeans.predict(train_images)\n",
    "\n",
    "predicted_clusters = np.zeros(len(train_labels))\n",
    "for cluster_ind, cluster in enumerate(kmeans.clusters):\n",
    "    for ind in cluster:\n",
    "        predicted_clusters[ind] = cluster_ind\n",
    "        \n",
    "sse = compute_sse(train_images, kmeans.clusters, kmeans.centroids)\n",
    "accuracy = clustering_accuracy(train_labels, predicted_clusters, K=4)\n",
    "\n",
    "print(f'Original Data - SSE: {sse}')\n",
    "print(f'Original Data - Clustering Accuracy: {accuracy}')"
   ]
  },
  {
   "cell_type": "code",
   "execution_count": 8,
   "metadata": {},
   "outputs": [
    {
     "name": "stdout",
     "output_type": "stream",
     "text": [
      "PCA Data - SSE: 3238412.8512867843\n",
      "PCA Data - Clustering Accuracy: 0.36280296370714554\n"
     ]
    }
   ],
   "source": [
    "kmeans_pca = KMeans(K=4, converge_func=eucledian_distance, plot_steps=False)\n",
    "kmeans_pca.predict(train_images_pca)\n",
    "\n",
    "predicted_clusters_pca = np.zeros(len(train_labels))\n",
    "for cluster_idx, cluster in enumerate(kmeans_pca.clusters):\n",
    "    for index in cluster:\n",
    "        predicted_clusters_pca[index] = cluster_idx\n",
    "\n",
    "sse_pca = compute_sse(train_images_pca, kmeans_pca.clusters, kmeans_pca.centroids)\n",
    "accuracy_pca = clustering_accuracy(train_labels, predicted_clusters_pca, K=4)\n",
    "\n",
    "print(f'PCA Data - SSE: {sse_pca}')\n",
    "print(f'PCA Data - Clustering Accuracy: {accuracy_pca}')"
   ]
  },
  {
   "cell_type": "markdown",
   "metadata": {},
   "source": [
    "KMeans with Cosine Similarity Distance"
   ]
  },
  {
   "cell_type": "code",
   "execution_count": 11,
   "metadata": {},
   "outputs": [],
   "source": [
    "kmeans = KMeans(K=4, converge_func=cosine_similarity_distance, plot_steps=False)\n",
    "kmeans.predict(train_images_pca)"
   ]
  },
  {
   "cell_type": "code",
   "execution_count": 12,
   "metadata": {},
   "outputs": [
    {
     "name": "stdout",
     "output_type": "stream",
     "text": [
      "Original Data - SSE: 14920075.865196228\n",
      "Original Data - Clustering Accuracy: 0.38808656703922306\n"
     ]
    }
   ],
   "source": [
    "kmeans = KMeans(K=4, converge_func=cosine_similarity_distance, plot_steps=False)\n",
    "kmeans.predict(train_images)\n",
    "\n",
    "predicted_clusters = np.zeros(len(train_labels))\n",
    "for cluster_ind, cluster in enumerate(kmeans.clusters):\n",
    "    for ind in cluster:\n",
    "        predicted_clusters[ind] = cluster_ind\n",
    "        \n",
    "sse = compute_sse(train_images, kmeans.clusters, kmeans.centroids)\n",
    "accuracy = clustering_accuracy(train_labels, predicted_clusters, K=4)\n",
    "\n",
    "print(f'Original Data - SSE: {sse}')\n",
    "print(f'Original Data - Clustering Accuracy: {accuracy}')"
   ]
  },
  {
   "cell_type": "code",
   "execution_count": 13,
   "metadata": {},
   "outputs": [
    {
     "name": "stdout",
     "output_type": "stream",
     "text": [
      "PCA Data - SSE: 3324050.4203613014\n",
      "PCA Data - Clustering Accuracy: 0.26158482983800074\n"
     ]
    }
   ],
   "source": [
    "kmeans_pca = KMeans(K=4, converge_func=cosine_similarity_distance, plot_steps=False)\n",
    "kmeans_pca.predict(train_images_pca)\n",
    "\n",
    "predicted_clusters_pca = np.zeros(len(train_labels))\n",
    "for cluster_idx, cluster in enumerate(kmeans_pca.clusters):\n",
    "    for index in cluster:\n",
    "        predicted_clusters_pca[index] = cluster_idx\n",
    "\n",
    "sse_pca = compute_sse(train_images_pca, kmeans_pca.clusters, kmeans_pca.centroids)\n",
    "accuracy_pca = clustering_accuracy(train_labels, predicted_clusters_pca, K=4)\n",
    "\n",
    "print(f'PCA Data - SSE: {sse_pca}')\n",
    "print(f'PCA Data - Clustering Accuracy: {accuracy_pca}')"
   ]
  }
 ],
 "metadata": {
  "kernelspec": {
   "display_name": "Python 3",
   "language": "python",
   "name": "python3"
  },
  "language_info": {
   "codemirror_mode": {
    "name": "ipython",
    "version": 3
   },
   "file_extension": ".py",
   "mimetype": "text/x-python",
   "name": "python",
   "nbconvert_exporter": "python",
   "pygments_lexer": "ipython3",
   "version": "3.12.3"
  }
 },
 "nbformat": 4,
 "nbformat_minor": 2
}
