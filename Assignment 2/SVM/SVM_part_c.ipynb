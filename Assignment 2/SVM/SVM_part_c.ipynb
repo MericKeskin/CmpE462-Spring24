{
 "cells": [
  {
   "cell_type": "code",
   "execution_count": 2,
   "metadata": {},
   "outputs": [],
   "source": [
    "import sys\n",
    "sys.path.append(r'..')\n",
    "from data import read_svm_data\n",
    "from cvxopt import matrix, solvers\n",
    "import numpy as np"
   ]
  },
  {
   "cell_type": "code",
   "execution_count": 3,
   "metadata": {},
   "outputs": [
    {
     "data": {
      "text/plain": [
       "((20000, 784), (20000,), (3974, 784), (3974,))"
      ]
     },
     "execution_count": 3,
     "metadata": {},
     "output_type": "execute_result"
    }
   ],
   "source": [
    "training_labels, training_images = read_svm_data(\"training\", r\"../../MNIST_ORG\", [2, 3, 8, 9])\n",
    "testing_labels, testing_images = read_svm_data(\"testing\", r\"../../MNIST_ORG\", [2, 3, 8, 9])\n",
    "\n",
    "training_images.shape, training_labels.shape, testing_images.shape, testing_labels.shape"
   ]
  },
  {
   "cell_type": "code",
   "execution_count": 4,
   "metadata": {},
   "outputs": [],
   "source": [
    "training_images = training_images.astype(np.float64) / 255.0\n",
    "testing_images = testing_images.astype(np.float64) / 255.0"
   ]
  },
  {
   "cell_type": "code",
   "execution_count": 5,
   "metadata": {},
   "outputs": [],
   "source": [
    "C = 100\n",
    "N = training_labels.shape[0]  # number of training samples\n",
    "d = training_images.shape[1]  # dimension of each sample\n",
    "labels_to_classify = [2, 3, 8, 9]\n",
    "classifiers = {}"
   ]
  },
  {
   "cell_type": "code",
   "execution_count": 6,
   "metadata": {},
   "outputs": [],
   "source": [
    "def polynomial_kernel(x, y, degree=2, alpha=1, beta=1):\n",
    "    return (alpha * np.dot(x, y) + beta) ** degree"
   ]
  },
  {
   "cell_type": "code",
   "execution_count": null,
   "metadata": {},
   "outputs": [],
   "source": [
    "K = np.zeros((N, N))\n",
    "for i in range(N):\n",
    "    for j in range(N):\n",
    "        K[i, j] = polynomial_kernel(training_images[i], training_images[j])"
   ]
  },
  {
   "cell_type": "code",
   "execution_count": null,
   "metadata": {},
   "outputs": [],
   "source": [
    "# Set up the matrices for the QP problem\n",
    "P = matrix(np.outer(training_labels, training_labels) * K)\n",
    "q = matrix(-np.ones(N))\n",
    "G = matrix(np.vstack((-np.eye(N), np.eye(N))))\n",
    "h = matrix(np.hstack((np.zeros(N), np.ones(N) * C)))\n",
    "A = matrix(training_labels, (1, N), 'd')\n",
    "b = matrix(0.0)\n",
    "\n",
    "# Solve QP problem\n",
    "solution = solvers.qp(P, q, G, h, A, b)\n",
    "alphas = np.ravel(solution['x'])\n",
    "\n",
    "# Extract support vectors\n",
    "support_vector_indices = alphas > 1e-5\n",
    "alphas = alphas[support_vector_indices]\n",
    "support_vectors = training_images[support_vector_indices]\n",
    "support_vector_labels = training_labels[support_vector_indices]\n",
    "\n",
    "# Calculate b\n",
    "b = np.mean([y_k - np.sum(alphas * support_vector_labels * K[ind, support_vector_indices])\n",
    "             for ind, y_k in enumerate(support_vector_labels)])\n",
    "\n",
    "# Prediction using the kernel function\n",
    "def predict(X):\n",
    "    return np.sign(np.sum(alphas * support_vector_labels * polynomial_kernel(support_vectors, X, degree=2, coef0=1), axis=1) + b)\n",
    "\n",
    "# Evaluate model\n",
    "training_predictions = predict(training_images)\n",
    "testing_predictions = predict(testing_images)\n",
    "\n",
    "# Calculate accuracies\n",
    "training_accuracy = np.mean(training_predictions == training_labels)\n",
    "testing_accuracy = np.mean(testing_predictions == testing_labels)\n",
    "\n",
    "print(f\"Training Accuracy: {training_accuracy * 100:.2f}%\")\n",
    "print(f\"Testing Accuracy: {testing_accuracy * 100:.2f}%\")"
   ]
  }
 ],
 "metadata": {
  "kernelspec": {
   "display_name": "venv",
   "language": "python",
   "name": "python3"
  },
  "language_info": {
   "codemirror_mode": {
    "name": "ipython",
    "version": 3
   },
   "file_extension": ".py",
   "mimetype": "text/x-python",
   "name": "python",
   "nbconvert_exporter": "python",
   "pygments_lexer": "ipython3",
   "version": "3.11.4"
  }
 },
 "nbformat": 4,
 "nbformat_minor": 2
}
