{
 "cells": [
  {
   "cell_type": "code",
   "execution_count": 1,
   "metadata": {},
   "outputs": [],
   "source": [
    "import sys\n",
    "sys.path.append(r'..')\n",
    "\n",
    "import numpy as np\n",
    "from cvxopt import matrix, solvers, spmatrix\n",
    "from data import read_svm_data\n"
   ]
  },
  {
   "cell_type": "code",
   "execution_count": 2,
   "metadata": {},
   "outputs": [
    {
     "data": {
      "text/plain": [
       "((20000, 784), (20000,), (3974, 784), (3974,))"
      ]
     },
     "execution_count": 2,
     "metadata": {},
     "output_type": "execute_result"
    }
   ],
   "source": [
    "training_labels, training_images = read_svm_data(\"training\", r\"../../MNIST_ORG\", [2, 3, 8, 9])\n",
    "testing_labels, testing_images = read_svm_data(\"testing\", r\"../../MNIST_ORG\", [2, 3, 8, 9])\n",
    "\n",
    "training_images.shape, training_labels.shape, testing_images.shape, testing_labels.shape"
   ]
  },
  {
   "cell_type": "code",
   "execution_count": 3,
   "metadata": {},
   "outputs": [],
   "source": [
    "\n",
    "training_images = training_images.astype(np.float32) / 255.0\n",
    "testing_images = testing_images.astype(np.float32) / 255.0\n",
    "\n",
    "training_images_sub = training_images[::10]\n",
    "training_labels_sub = training_labels[::10]"
   ]
  },
  {
   "cell_type": "code",
   "execution_count": 4,
   "metadata": {},
   "outputs": [],
   "source": [
    "def polynomial_kernel(X1, X2, degree=2):\n",
    "    K = np.dot(X1, X2.T)\n",
    "    return (1 + K) ** degree"
   ]
  },
  {
   "cell_type": "code",
   "execution_count": 5,
   "metadata": {},
   "outputs": [],
   "source": [
    "C = 10\n",
    "N = training_labels_sub.shape[0]  # number of training samples\n",
    "d = training_images_sub.shape[1]  # dimension of each sample\n",
    "labels_to_classify = [2, 3, 8, 9]\n",
    "classifiers = {}"
   ]
  },
  {
   "cell_type": "code",
   "execution_count": 6,
   "metadata": {},
   "outputs": [
    {
     "name": "stdout",
     "output_type": "stream",
     "text": [
      "\n",
      "Training classifier for digit 2...\n",
      "Building Kernel matrix...\n",
      "Solving QP...\n",
      "\n",
      "Training classifier for digit 3...\n",
      "Building Kernel matrix...\n",
      "Solving QP...\n",
      "\n",
      "Training classifier for digit 8...\n",
      "Building Kernel matrix...\n",
      "Solving QP...\n",
      "\n",
      "Training classifier for digit 9...\n",
      "Building Kernel matrix...\n",
      "Solving QP...\n"
     ]
    }
   ],
   "source": [
    "solvers.options['show_progress'] = False\n",
    "\n",
    "for label in labels_to_classify:\n",
    "    print(f\"\\nTraining classifier for digit {label}...\")\n",
    "    yn = np.where(training_labels_sub == label, 1, -1)\n",
    "\n",
    "    print(\"Building Kernel matrix...\")\n",
    "    \n",
    "    # Q is a NxN matrix, where N is the number of training samples\n",
    "    # Q[i, j] = y[i] * y[j] * K(x[i], x[j])\n",
    "    K = polynomial_kernel(training_images_sub, training_images_sub)\n",
    "    Y = yn.reshape(-1, 1) * yn.reshape(1, -1)\n",
    "    Q = matrix(K * Y, tc='d')\n",
    "\n",
    "    # p is a Nx1 matrix of -1s\n",
    "    p = matrix(-np.ones(N))\n",
    "    \n",
    "    # Ax = c equality constraint sum(alpha * y) = 0\n",
    "    # A is a row vector of labels y\n",
    "    # c is a scalar 0\n",
    "    A = matrix(yn, (1, N), 'd')\n",
    "    c = matrix(0.0)\n",
    "    \n",
    "    # Gx <= h inequality constraint 0 <= alpha <= C\n",
    "    # lower bound 0 <= alpha\n",
    "    G = spmatrix([], [], [], (N, N), 'd')\n",
    "    G[::N+1] = -1\n",
    "    h = matrix(np.zeros(N), tc='d')\n",
    "    \n",
    "    # upper bound alpha <= C\n",
    "    G_up = spmatrix([], [], [], (N, N), 'd')\n",
    "    G_up[::N+1] = 1\n",
    "    h_up = matrix(C * np.ones(N), tc='d')\n",
    "    \n",
    "    # concatenate lower and upper bound\n",
    "    G = matrix([G, G_up])\n",
    "    h = matrix([h, h_up])\n",
    "\n",
    "    print(\"Solving QP...\")\n",
    "    solution = solvers.qp(Q, p, G, h, A, c)\n",
    "    alphas = np.array(solution['x']).flatten()\n",
    "\n",
    "    # support vectors have non zero lagrange multipliers\n",
    "    # alphas > 0 caused numerical problems, so we use 1e-6\n",
    "    sv = alphas > 1e-6\n",
    "    ind = np.arange(len(alphas))[sv]    # indices of support vectors\n",
    "    alpha_sv = alphas[sv]               # alphas of support vectors\n",
    "    sv_y = yn[sv]                       # labels of support vectors\n",
    "    sv_X = training_images_sub[sv]      # support vectors\n",
    "\n",
    "    # b = 1/N * sum(y - sum(alpha * y * K))\n",
    "    b = np.mean(sv_y - np.sum(alpha_sv * sv_y * K[np.ix_(ind, sv)], axis=0))\n",
    "\n",
    "    classifiers[label] = (alpha_sv, sv_X, sv_y, b)"
   ]
  },
  {
   "cell_type": "code",
   "execution_count": 7,
   "metadata": {},
   "outputs": [
    {
     "name": "stdout",
     "output_type": "stream",
     "text": [
      "Training Accuracy: 97.04%\n",
      "Testing Accuracy: 96.90%\n"
     ]
    }
   ],
   "source": [
    "def predict(X, classifiers):\n",
    "    results = {}\n",
    "    for label, (alphas, support_vectors, sv_labels, b) in classifiers.items():\n",
    "        K_eval = polynomial_kernel(X, support_vectors)\n",
    "        prediction = np.dot(K_eval, alphas * sv_labels) + b\n",
    "        results[label] = prediction\n",
    "    predictions = np.argmax(np.column_stack([results[label] for label in labels_to_classify]), axis=1)\n",
    "    mapped_labels = [labels_to_classify[i] for i in predictions]\n",
    "    return np.array(mapped_labels)\n",
    "\n",
    "# Prediction and accuracy calculation\n",
    "predictions = predict(training_images, classifiers)\n",
    "accuracy = np.mean(predictions == training_labels)\n",
    "print(f\"Training Accuracy: {accuracy * 100:.2f}%\")\n",
    "\n",
    "predictions = predict(testing_images, classifiers)\n",
    "accuracy = np.mean(predictions == testing_labels)\n",
    "print(f\"Testing Accuracy: {accuracy * 100:.2f}%\")"
   ]
  }
 ],
 "metadata": {
  "kernelspec": {
   "display_name": "venv",
   "language": "python",
   "name": "python3"
  },
  "language_info": {
   "codemirror_mode": {
    "name": "ipython",
    "version": 3
   },
   "file_extension": ".py",
   "mimetype": "text/x-python",
   "name": "python",
   "nbconvert_exporter": "python",
   "pygments_lexer": "ipython3",
   "version": "3.11.4"
  }
 },
 "nbformat": 4,
 "nbformat_minor": 2
}
