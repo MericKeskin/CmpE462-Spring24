{
 "cells": [
  {
   "cell_type": "code",
   "execution_count": 16,
   "metadata": {},
   "outputs": [],
   "source": [
    "import sys\n",
    "sys.path.append(r'..')\n",
    "\n",
    "from sklearn.svm import SVC\n",
    "from sklearn.metrics import accuracy_score\n",
    "\n",
    "from data import read_svm_data\n",
    "import numpy as np"
   ]
  },
  {
   "cell_type": "code",
   "execution_count": 17,
   "metadata": {},
   "outputs": [
    {
     "data": {
      "text/plain": [
       "((20000, 784), (20000,), (3974, 784), (3974,))"
      ]
     },
     "execution_count": 17,
     "metadata": {},
     "output_type": "execute_result"
    }
   ],
   "source": [
    "training_labels, training_images = read_svm_data(\"training\", r\"../../MNIST_ORG\", [2, 3, 8, 9])\n",
    "testing_labels, testing_images = read_svm_data(\"testing\", r\"../../MNIST_ORG\", [2, 3, 8, 9])\n",
    "\n",
    "training_images.shape, training_labels.shape, testing_images.shape, testing_labels.shape"
   ]
  },
  {
   "cell_type": "code",
   "execution_count": 18,
   "metadata": {},
   "outputs": [],
   "source": [
    "training_images = training_images.astype(np.float64) / 255.0\n",
    "testing_images = testing_images.astype(np.float64) / 255.0"
   ]
  },
  {
   "cell_type": "code",
   "execution_count": 19,
   "metadata": {},
   "outputs": [
    {
     "name": "stdout",
     "output_type": "stream",
     "text": [
      "\n",
      "Training classifier for class 2\n",
      "[LibSVM]\n",
      "Training classifier for class 3\n",
      "[LibSVM]\n",
      "Training classifier for class 8\n",
      "[LibSVM]\n",
      "Training classifier for class 9\n",
      "[LibSVM]"
     ]
    }
   ],
   "source": [
    "classifiers = {}\n",
    "classes = [2, 3, 8, 9]\n",
    "for class_label in classes:\n",
    "    print(f\"\\nTraining classifier for class {class_label}\")\n",
    "    # 1 for the current class, 0 for all others\n",
    "    binary_target = (training_labels == class_label).astype(int)\n",
    "    \n",
    "    classifier = SVC(kernel='poly', C=0.01, verbose=True)\n",
    "    classifier.fit(training_images, binary_target)\n",
    "    classifiers[class_label] = classifier\n"
   ]
  },
  {
   "cell_type": "code",
   "execution_count": 20,
   "metadata": {},
   "outputs": [
    {
     "name": "stdout",
     "output_type": "stream",
     "text": [
      "Training Accuracy: 94.42%\n",
      "Test Accuracy: 95.02%\n"
     ]
    }
   ],
   "source": [
    "def predict_one_vs_rest(classifiers, images):\n",
    "    scores = np.column_stack([\n",
    "        clf.decision_function(images) for clf in classifiers.values()\n",
    "    ])\n",
    "    predicted_class_indices = np.argmax(scores, axis=1)\n",
    "    predicted_classes = [classes[i] for i in predicted_class_indices]\n",
    "    \n",
    "    return predicted_classes\n",
    "\n",
    "predictions = predict_one_vs_rest(classifiers, training_images)\n",
    "accuracy = accuracy_score(training_labels, predictions)\n",
    "print(f\"Training Accuracy: {accuracy * 100:.2f}%\")\n",
    "\n",
    "predictions = predict_one_vs_rest(classifiers, testing_images)\n",
    "accuracy = accuracy_score(testing_labels, predictions)\n",
    "print(f\"Test Accuracy: {accuracy * 100:.2f}%\")"
   ]
  }
 ],
 "metadata": {
  "kernelspec": {
   "display_name": "venv",
   "language": "python",
   "name": "python3"
  },
  "language_info": {
   "codemirror_mode": {
    "name": "ipython",
    "version": 3
   },
   "file_extension": ".py",
   "mimetype": "text/x-python",
   "name": "python",
   "nbconvert_exporter": "python",
   "pygments_lexer": "ipython3",
   "version": "3.11.4"
  }
 },
 "nbformat": 4,
 "nbformat_minor": 2
}
