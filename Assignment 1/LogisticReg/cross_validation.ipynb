{
 "cells": [
  {
   "cell_type": "code",
   "execution_count": 1,
   "metadata": {},
   "outputs": [],
   "source": [
    "import numpy as np\n",
    "from data import Data\n",
    "from GD import (g,\n",
    "                l2_g,\n",
    "                init_w,\n",
    "                predict)"
   ]
  },
  {
   "cell_type": "code",
   "execution_count": 2,
   "metadata": {},
   "outputs": [],
   "source": [
    "data_loader = Data(\"Rice_Cammeo_Osmancik.arff\")\n",
    "X = data_loader.get_X()\n",
    "y = data_loader.get_y()\n",
    "X_scaled = data_loader.normalize_data(X)\n",
    "X_with_bias = np.hstack((np.ones((X_scaled.shape[0], 1)), X_scaled))"
   ]
  },
  {
   "cell_type": "code",
   "execution_count": 3,
   "metadata": {},
   "outputs": [],
   "source": [
    "lambda_values = [0, 0.0001, 0.001, 0.01, 0.1, 1, 10]\n",
    "\n",
    "n_folds = 5\n",
    "\n",
    "X_folds = np.array_split(X_with_bias, n_folds)\n",
    "y_folds = np.array_split(y, n_folds)"
   ]
  },
  {
   "cell_type": "code",
   "execution_count": 4,
   "metadata": {},
   "outputs": [
    {
     "name": "stdout",
     "output_type": "stream",
     "text": [
      "_lambda: 0, Average Accuracy: 89.87%\n",
      "_lambda: 0.0001, Average Accuracy: 89.87%\n",
      "_lambda: 0.001, Average Accuracy: 89.95%\n",
      "_lambda: 0.01, Average Accuracy: 90.13%\n",
      "_lambda: 0.1, Average Accuracy: 90.16%\n",
      "_lambda: 1, Average Accuracy: 89.87%\n",
      "_lambda: 10, Average Accuracy: 89.50%\n",
      "Best _lambda: 0.1 with Average Accuracy: 90.16%\n"
     ]
    }
   ],
   "source": [
    "best_lambda = None\n",
    "best_accuracy = 0\n",
    "\n",
    "learning_rate = 0.01\n",
    "epochs = 10000\n",
    "\n",
    "for _lambda in lambda_values:\n",
    "    accuracies = []\n",
    "    \n",
    "    for i in range(n_folds):\n",
    "        X_train = np.concatenate([X_folds[j] for j in range(n_folds) if j != i])\n",
    "        y_train = np.concatenate([y_folds[j] for j in range(n_folds) if j != i])\n",
    "        X_test = X_folds[i]\n",
    "        y_test = y_folds[i]\n",
    "        \n",
    "        n_features = X_train.shape[1]\n",
    "        w = init_w(n_features)\n",
    "        \n",
    "        for epoch in range(epochs):\n",
    "            gradient = g(X_train, y_train, w) + l2_g(w, _lambda)\n",
    "            w -= learning_rate * gradient\n",
    "            \n",
    "        predictions = predict(X_test, w)\n",
    "        accuracy = np.mean(predictions == y_test)\n",
    "        accuracies.append(accuracy)\n",
    "    \n",
    "    avg_accuracy = np.mean(accuracies)\n",
    "    print(f\"_lambda: {_lambda}, Average Accuracy: {avg_accuracy * 100:.2f}%\")\n",
    "    if avg_accuracy > best_accuracy:\n",
    "        best_accuracy = avg_accuracy\n",
    "        best_lambda = _lambda\n",
    "\n",
    "print(f\"Best _lambda: {best_lambda} with Average Accuracy: {best_accuracy * 100:.2f}%\")"
   ]
  }
 ],
 "metadata": {
  "kernelspec": {
   "display_name": "venv",
   "language": "python",
   "name": "python3"
  },
  "language_info": {
   "codemirror_mode": {
    "name": "ipython",
    "version": 3
   },
   "file_extension": ".py",
   "mimetype": "text/x-python",
   "name": "python",
   "nbconvert_exporter": "python",
   "pygments_lexer": "ipython3",
   "version": "3.11.4"
  }
 },
 "nbformat": 4,
 "nbformat_minor": 2
}
