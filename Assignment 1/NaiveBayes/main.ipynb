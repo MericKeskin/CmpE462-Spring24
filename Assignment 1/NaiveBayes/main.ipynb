{
 "cells": [
  {
   "cell_type": "code",
   "execution_count": 1,
   "metadata": {},
   "outputs": [],
   "source": [
    "import numpy as np\n",
    "from data import Data\n",
    "from naive_bayes import NaiveBayes"
   ]
  },
  {
   "cell_type": "code",
   "execution_count": 2,
   "metadata": {},
   "outputs": [],
   "source": [
    "data = Data(r'..\\breast+cancer+wisconsin+diagnostic\\wdbc.data')\n",
    "\n",
    "X = data.get_X()\n",
    "y = data.get_y()\n",
    "X_train, X_test, y_train, y_test = data.split_data(X, y, test_size=0.2)"
   ]
  },
  {
   "cell_type": "code",
   "execution_count": 3,
   "metadata": {},
   "outputs": [
    {
     "name": "stdout",
     "output_type": "stream",
     "text": [
      "X_train shape: (455, 30)\n",
      "X_test shape: (114, 30)\n"
     ]
    }
   ],
   "source": [
    "print('X_train shape:', X_train.shape)\n",
    "print('X_test shape:', X_test.shape)"
   ]
  },
  {
   "cell_type": "code",
   "execution_count": 19,
   "metadata": {},
   "outputs": [
    {
     "name": "stdout",
     "output_type": "stream",
     "text": [
      "Min test accuracy: 0.8333333333333334\n",
      "Max test accuracy: 1.0\n",
      "Min train accuracy: 0.9186813186813186\n",
      "Max train accuracy: 0.9604395604395605\n"
     ]
    }
   ],
   "source": [
    "min_train_accuracy = 1\n",
    "min_test_accuracy = 1\n",
    "max_train_accuracy = 0\n",
    "max_test_accuracy = 0\n",
    "for _ in range(10000):\n",
    "    data = Data(r'..\\breast+cancer+wisconsin+diagnostic\\wdbc.data')\n",
    "\n",
    "    X = data.get_X()\n",
    "    y = data.get_y()\n",
    "    X_train, X_test, y_train, y_test = data.split_data(X, y, test_size=0.2)\n",
    "    nb = NaiveBayes()\n",
    "    nb.train(X_train, y_train)\n",
    "\n",
    "    y_test_pred = nb.predict(X_test)\n",
    "    test_accuracy = np.sum(y_test_pred == y_test) / len(y_test)\n",
    "\n",
    "    y_train_pred = nb.predict(X_train)\n",
    "    train_accuracy = np.sum(y_train_pred == y_train) / len(y_train)\n",
    "\n",
    "    if test_accuracy < min_test_accuracy:\n",
    "        min_test_accuracy = test_accuracy\n",
    "    if train_accuracy < min_train_accuracy:\n",
    "        min_train_accuracy = train_accuracy\n",
    "        \n",
    "    if test_accuracy > max_test_accuracy:\n",
    "        max_test_accuracy = test_accuracy\n",
    "    if train_accuracy > max_train_accuracy:\n",
    "        max_train_accuracy = train_accuracy\n",
    "\n",
    "print('Min test accuracy:', min_test_accuracy)\n",
    "print('Max test accuracy:', max_test_accuracy)\n",
    "\n",
    "print('Min train accuracy:', min_train_accuracy)\n",
    "print('Max train accuracy:', max_train_accuracy)"
   ]
  }
 ],
 "metadata": {
  "kernelspec": {
   "display_name": "venv",
   "language": "python",
   "name": "python3"
  },
  "language_info": {
   "codemirror_mode": {
    "name": "ipython",
    "version": 3
   },
   "file_extension": ".py",
   "mimetype": "text/x-python",
   "name": "python",
   "nbconvert_exporter": "python",
   "pygments_lexer": "ipython3",
   "version": "3.11.4"
  }
 },
 "nbformat": 4,
 "nbformat_minor": 2
}
